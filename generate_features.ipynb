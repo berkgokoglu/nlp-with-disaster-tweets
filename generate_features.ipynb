{
 "metadata": {
  "language_info": {
   "codemirror_mode": {
    "name": "ipython",
    "version": 3
   },
   "file_extension": ".py",
   "mimetype": "text/x-python",
   "name": "python",
   "nbconvert_exporter": "python",
   "pygments_lexer": "ipython3",
   "version": "3.7.4-final"
  },
  "orig_nbformat": 2,
  "kernelspec": {
   "name": "python3",
   "display_name": "Python 3"
  }
 },
 "nbformat": 4,
 "nbformat_minor": 2,
 "cells": [
  {
   "cell_type": "code",
   "execution_count": 1,
   "metadata": {},
   "outputs": [],
   "source": [
    "import numpy as np\n",
    "import pandas as pd"
   ]
  },
  {
   "cell_type": "code",
   "execution_count": 2,
   "metadata": {},
   "outputs": [],
   "source": [
    "train_data = pd.read_csv(\"train.csv\")\n",
    "test_data = pd.read_csv(\"test.csv\")"
   ]
  },
  {
   "cell_type": "code",
   "execution_count": 3,
   "metadata": {},
   "outputs": [
    {
     "output_type": "execute_result",
     "data": {
      "text/plain": [
       "array(['Me pulling over and fighting the hoes that called Zayn a terrorist  http://t.co/FY30fV0Qbx'],\n",
       "      dtype=object)"
      ]
     },
     "metadata": {},
     "execution_count": 3
    }
   ],
   "source": [
    "train_data[train_data['target'] == 1]['text'].sample().values"
   ]
  },
  {
   "cell_type": "code",
   "execution_count": 4,
   "metadata": {},
   "outputs": [
    {
     "output_type": "execute_result",
     "data": {
      "text/plain": [
       "0    4342\n",
       "1    3271\n",
       "Name: target, dtype: int64"
      ]
     },
     "metadata": {},
     "execution_count": 4
    }
   ],
   "source": [
    "train_data[train_data.text.str.contains('', case=False)].target.value_counts()\n"
   ]
  },
  {
   "source": [
    "##### True Positive tweets tend to result in multiple tweets when searched in twitter"
   ],
   "cell_type": "markdown",
   "metadata": {}
  },
  {
   "source": [
    "## Define keyword feature generator method"
   ],
   "cell_type": "markdown",
   "metadata": {}
  },
  {
   "cell_type": "code",
   "execution_count": 3,
   "metadata": {},
   "outputs": [],
   "source": [
    "def keyword_feature_generator(keyword, feature_name, data = train_data):\n",
    "    data[feature_name] = 0\n",
    "    idx = data[data.text.str.contains(keyword, case=False)].index\n",
    "    train_data.loc[idx, feature_name] = 1"
   ]
  },
  {
   "source": [
    "## Add I sentence feature"
   ],
   "cell_type": "markdown",
   "metadata": {}
  },
  {
   "cell_type": "code",
   "execution_count": 7,
   "metadata": {},
   "outputs": [],
   "source": [
    "keyword = 'i '\n",
    "keyword_feature_generator(keyword, 'i_sentence')\n",
    "keyword_feature_generator(keyword, 'i_sentence', test_data)"
   ]
  },
  {
   "source": [
    "## Add http feature"
   ],
   "cell_type": "markdown",
   "metadata": {}
  },
  {
   "cell_type": "code",
   "execution_count": 8,
   "metadata": {},
   "outputs": [],
   "source": [
    "keyword = 'http'\n",
    "keyword_feature_generator(keyword, 'link_attached')\n",
    "keyword_feature_generator(keyword, 'link_attached', test_data)"
   ]
  },
  {
   "source": [
    "## Add @ feature"
   ],
   "cell_type": "markdown",
   "metadata": {}
  },
  {
   "cell_type": "code",
   "execution_count": 9,
   "metadata": {},
   "outputs": [
    {
     "output_type": "execute_result",
     "data": {
      "text/plain": [
       "0    1363\n",
       "1     676\n",
       "Name: target, dtype: int64"
      ]
     },
     "metadata": {},
     "execution_count": 9
    }
   ],
   "source": [
    "train_data[train_data.text.str.contains('@')].target.value_counts() "
   ]
  },
  {
   "cell_type": "code",
   "execution_count": 10,
   "metadata": {},
   "outputs": [],
   "source": [
    "keyword = '@'\n",
    "keyword_feature_generator(keyword, 'at_in_text')\n",
    "keyword_feature_generator(keyword, 'at_in_text', test_data)"
   ]
  },
  {
   "source": [
    "## Add news feature"
   ],
   "cell_type": "markdown",
   "metadata": {}
  },
  {
   "cell_type": "code",
   "execution_count": 11,
   "metadata": {},
   "outputs": [],
   "source": [
    "keyword = \"news\"\n",
    "keyword_feature_generator(keyword, 'news_in_text')\n",
    "keyword_feature_generator(keyword, 'news_in_text', test_data)"
   ]
  },
  {
   "source": [
    "## Take the most common 1000 keywords as feature"
   ],
   "cell_type": "markdown",
   "metadata": {}
  },
  {
   "cell_type": "code",
   "execution_count": 5,
   "metadata": {},
   "outputs": [],
   "source": [
    "from collections import Counter\n",
    "for element in Counter(\" \".join(train_data[\"text\"]).split()).most_common(100):\n",
    "    try:\n",
    "        keyword_feature_generator(element[0], element[0])\n",
    "        keyword_feature_generator(element[0], element[0], test_data)\n",
    "\n",
    "    except:\n",
    "        pass"
   ]
  },
  {
   "cell_type": "code",
   "execution_count": 47,
   "metadata": {},
   "outputs": [],
   "source": [
    "train_data = train_data.iloc[:,:5]\n",
    "test_data = test_data.iloc[:,:5]"
   ]
  },
  {
   "cell_type": "code",
   "execution_count": 36,
   "metadata": {},
   "outputs": [],
   "source": [
    "from collections import Counter\n",
    "number_of_features = 1000\n",
    "for element in Counter(\" \".join(train_data[\"text\"]).split()).most_common(number_of_features):\n",
    "    value_counts = train_data[train_data.text.str.contains(element[0], case=False, regex=False)].target.value_counts()\n",
    "    threshold = 0.5\n",
    "    try:\n",
    "        if (value_counts[1]/value_counts[0] > (1 + threshold)) or (value_counts[1]/value_counts[0] < (1 - threshold)):\n",
    "            try:\n",
    "                keyword_feature_generator(element[0], element[0])\n",
    "                keyword_feature_generator(element[0], element[0], test_data)\n",
    "            except:\n",
    "                pass\n",
    "    except:\n",
    "        pass\n"
   ]
  },
  {
   "cell_type": "code",
   "execution_count": 46,
   "metadata": {},
   "outputs": [
    {
     "output_type": "execute_result",
     "data": {
      "text/plain": [
       "8.0"
      ]
     },
     "metadata": {},
     "execution_count": 46
    }
   ],
   "source": [
    "value_counts[0]/value_counts[1]"
   ]
  },
  {
   "cell_type": "code",
   "execution_count": 37,
   "metadata": {},
   "outputs": [],
   "source": [
    "train_data.fillna(0, inplace = True)\n",
    "test_data.fillna(0, inplace = True)"
   ]
  },
  {
   "source": [
    "## Random Forest Classifier"
   ],
   "cell_type": "markdown",
   "metadata": {}
  },
  {
   "cell_type": "code",
   "execution_count": 38,
   "metadata": {},
   "outputs": [],
   "source": [
    "from sklearn.ensemble import RandomForestClassifier\n",
    "# random forest model creation\n",
    "rfc = RandomForestClassifier()\n"
   ]
  },
  {
   "cell_type": "code",
   "execution_count": 39,
   "metadata": {},
   "outputs": [],
   "source": [
    "y = train_data.target.values\n",
    "X = train_data.iloc[:,5:].values\n",
    "\n",
    "from sklearn.model_selection import train_test_split\n",
    "# implementing train-test-split\n",
    "X_train, X_validation, y_train, y_validation = train_test_split(X, y, test_size=0.33, random_state=66)"
   ]
  },
  {
   "cell_type": "code",
   "execution_count": 40,
   "metadata": {},
   "outputs": [],
   "source": [
    "rfc.fit(X_train,y_train)\n",
    "# predictions\n",
    "rfc_predict = rfc.predict(X_validation)"
   ]
  },
  {
   "cell_type": "code",
   "execution_count": 41,
   "metadata": {},
   "outputs": [],
   "source": [
    "from sklearn.model_selection import cross_val_score\n",
    "from sklearn.metrics import classification_report, confusion_matrix"
   ]
  },
  {
   "cell_type": "code",
   "execution_count": 42,
   "metadata": {},
   "outputs": [
    {
     "output_type": "stream",
     "name": "stdout",
     "text": [
      "threshold :  0.2\nPrecision :  0.7554479418886199\nRecall :  0.5735294117647058\nAccuracy :  0.7349781138081973\nF1_score :  0.6520376175548588\n"
     ]
    }
   ],
   "source": [
    "from sklearn.metrics import precision_score, recall_score, accuracy_score, f1_score\n",
    "print('threshold : ', threshold)\n",
    "print('Precision : ', precision_score(y_validation, rfc_predict))\n",
    "print('Recall : ', recall_score(y_validation, rfc_predict))\n",
    "print('Accuracy : ', accuracy_score(y_validation, rfc_predict))\n",
    "print('F1_score : ', f1_score(y_validation, rfc_predict))"
   ]
  },
  {
   "cell_type": "code",
   "execution_count": 44,
   "metadata": {},
   "outputs": [
    {
     "output_type": "stream",
     "name": "stdout",
     "text": [
      "threshold :  0.1\nPrecision :  0.7554479418886199\nRecall :  0.5735294117647058\nAccuracy :  0.7349781138081973\nF1_score :  0.6520376175548588\n"
     ]
    }
   ],
   "source": [
    "train_data = train_data.iloc[:,:5]\n",
    "test_data = test_data.iloc[:,:5]\n",
    "\n",
    "from collections import Counter\n",
    "number_of_features = 1000\n",
    "for element in Counter(\" \".join(train_data[\"text\"]).split()).most_common(number_of_features):\n",
    "    value_counts = train_data[train_data.text.str.contains(element[0], case=False, regex=False)].target.value_counts()\n",
    "    threshold = 0.1\n",
    "    try:\n",
    "        if (value_counts[1]/value_counts[0] > (1 + threshold)) or (value_counts[1]/value_counts[0] < (1 - threshold)):\n",
    "            try:\n",
    "                keyword_feature_generator(element[0], element[0])\n",
    "                keyword_feature_generator(element[0], element[0], test_data)\n",
    "            except:\n",
    "                pass\n",
    "    except:\n",
    "        pass\n",
    "\n",
    "train_data.fillna(0, inplace = True)\n",
    "test_data.fillna(0, inplace = True)\n",
    "\n",
    "from sklearn.ensemble import RandomForestClassifier\n",
    "# random forest model creation\n",
    "rfc = RandomForestClassifier()\n",
    "\n",
    "y = train_data.target.values\n",
    "X = train_data.iloc[:,5:].values\n",
    "\n",
    "from sklearn.model_selection import train_test_split\n",
    "# implementing train-test-split\n",
    "X_train, X_validation, y_train, y_validation = train_test_split(X, y, test_size=0.33, random_state=66)\n",
    "\n",
    "from sklearn.metrics import precision_score, recall_score, accuracy_score, f1_score\n",
    "print('threshold : ', threshold)\n",
    "print('Precision : ', precision_score(y_validation, rfc_predict))\n",
    "print('Recall : ', recall_score(y_validation, rfc_predict))\n",
    "print('Accuracy : ', accuracy_score(y_validation, rfc_predict))\n",
    "print('F1_score : ', f1_score(y_validation, rfc_predict))"
   ]
  },
  {
   "cell_type": "code",
   "execution_count": null,
   "metadata": {},
   "outputs": [],
   "source": []
  }
 ]
}