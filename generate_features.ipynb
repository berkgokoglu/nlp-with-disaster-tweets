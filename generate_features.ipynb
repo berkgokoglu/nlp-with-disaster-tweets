{
 "metadata": {
  "language_info": {
   "codemirror_mode": {
    "name": "ipython",
    "version": 3
   },
   "file_extension": ".py",
   "mimetype": "text/x-python",
   "name": "python",
   "nbconvert_exporter": "python",
   "pygments_lexer": "ipython3",
   "version": "3.7.4-final"
  },
  "orig_nbformat": 2,
  "kernelspec": {
   "name": "python3",
   "display_name": "Python 3"
  }
 },
 "nbformat": 4,
 "nbformat_minor": 2,
 "cells": [
  {
   "cell_type": "code",
   "execution_count": 17,
   "metadata": {},
   "outputs": [],
   "source": [
    "import numpy as np\n",
    "import pandas as pd\n"
   ]
  },
  {
   "cell_type": "code",
   "execution_count": 18,
   "metadata": {},
   "outputs": [],
   "source": [
    "train_data = pd.read_csv(\"train.csv\")\n",
    "test_data = pd.read_csv(\"test.csv\")"
   ]
  },
  {
   "cell_type": "code",
   "execution_count": 21,
   "metadata": {},
   "outputs": [
    {
     "output_type": "execute_result",
     "data": {
      "text/plain": [
       "array(['Fears over missing migrants in Med: Rescuers search for survivors after a boat carrying as many as 600 migrants\\x89Û_ http://t.co/v9ftYB30EI'],\n",
       "      dtype=object)"
      ]
     },
     "metadata": {},
     "execution_count": 21
    }
   ],
   "source": [
    "train_data[train_data['target'] == 1]['text'].sample().values"
   ]
  },
  {
   "cell_type": "code",
   "execution_count": 22,
   "metadata": {},
   "outputs": [
    {
     "output_type": "execute_result",
     "data": {
      "text/plain": [
       "0    4342\n",
       "1    3271\n",
       "Name: target, dtype: int64"
      ]
     },
     "metadata": {},
     "execution_count": 22
    }
   ],
   "source": [
    "train_data[train_data.text.str.contains('', case=False)].target.value_counts()\n"
   ]
  },
  {
   "source": [
    "##### True Positive tweets tend to result in multiple tweets when searched in twitter"
   ],
   "cell_type": "markdown",
   "metadata": {}
  },
  {
   "cell_type": "code",
   "execution_count": 11,
   "metadata": {},
   "outputs": [
    {
     "output_type": "execute_result",
     "data": {
      "text/plain": [
       "0    1030\n",
       "1     456\n",
       "Name: target, dtype: int64"
      ]
     },
     "metadata": {},
     "execution_count": 11
    }
   ],
   "source": [
    "## Feature ideas\n",
    "### All caps\n",
    "### Ausrufezeichen\n",
    "### Youtube\n",
    "### Internet links\n",
    "train_data[train_data.text.str.contains('http')].target.value_counts() # Mehr wahrscheinlichkeit von Disaster tweet\n",
    "### @ \n",
    "train_data[train_data.text.str.contains('@', case = False)].target.value_counts() # Entries with @ tends to be less serious\n",
    "### Text Containing news\n",
    "train_data[train_data.text.str.contains('news', case = False)].target.value_counts() \n",
    "### I sentences\n",
    "train_data[train_data.text.str.contains('i ', case=False)].target.value_counts()\n",
    "\n",
    "\n"
   ]
  },
  {
   "source": [
    "## Define keyword feature generator method"
   ],
   "cell_type": "markdown",
   "metadata": {}
  },
  {
   "cell_type": "code",
   "execution_count": 3,
   "metadata": {},
   "outputs": [],
   "source": [
    "def keyword_feature_generator(keyword, feature_name, data = train_data):\n",
    "    data[feature_name] = 0\n",
    "    idx = data[data.text.str.contains(keyword, case=False)].index\n",
    "    train_data.loc[idx, feature_name] = 1"
   ]
  },
  {
   "source": [
    "## Add I sentence feature"
   ],
   "cell_type": "markdown",
   "metadata": {}
  },
  {
   "cell_type": "code",
   "execution_count": 5,
   "metadata": {},
   "outputs": [],
   "source": [
    "keyword = 'i '\n",
    "keyword_feature_generator(keyword, 'i_sentence')"
   ]
  },
  {
   "source": [
    "## Add http feature"
   ],
   "cell_type": "markdown",
   "metadata": {}
  },
  {
   "cell_type": "code",
   "execution_count": 7,
   "metadata": {},
   "outputs": [],
   "source": [
    "keyword = 'http'\n",
    "keyword_feature_generator(keyword, 'link_attached')"
   ]
  },
  {
   "source": [
    "## Add @ feature"
   ],
   "cell_type": "markdown",
   "metadata": {}
  },
  {
   "cell_type": "code",
   "execution_count": 51,
   "metadata": {},
   "outputs": [
    {
     "output_type": "execute_result",
     "data": {
      "text/plain": [
       "0    1363\n",
       "1     676\n",
       "Name: target, dtype: int64"
      ]
     },
     "metadata": {},
     "execution_count": 51
    }
   ],
   "source": [
    "train_data[train_data.text.str.contains('@')].target.value_counts() "
   ]
  },
  {
   "cell_type": "code",
   "execution_count": 9,
   "metadata": {},
   "outputs": [],
   "source": [
    "keyword = '@'\n",
    "keyword_feature_generator(keyword, 'at_in_text')"
   ]
  },
  {
   "source": [
    "## Add news feature"
   ],
   "cell_type": "markdown",
   "metadata": {}
  },
  {
   "cell_type": "code",
   "execution_count": 10,
   "metadata": {},
   "outputs": [],
   "source": [
    "keyword = \"news\"\n",
    "keyword_feature_generator(keyword, 'news_in_text')"
   ]
  }
 ]
}